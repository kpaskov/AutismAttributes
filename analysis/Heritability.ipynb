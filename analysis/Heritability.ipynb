{
 "cells": [
  {
   "cell_type": "code",
   "execution_count": 1,
   "metadata": {},
   "outputs": [],
   "source": [
    "import csv\n",
    "from collections import defaultdict\n",
    "from itertools import combinations\n",
    "import random\n",
    "import numpy as np\n",
    "import matplotlib.pyplot as plt\n",
    "import scipy.stats as stats\n",
    "import statsmodels.api as sm\n"
   ]
  },
  {
   "cell_type": "code",
   "execution_count": 33,
   "metadata": {},
   "outputs": [],
   "source": [
    "# load data\n",
    "\n",
    "class Child():\n",
    "    def __init__(self, data):\n",
    "        self.id = data[1]\n",
    "        self.family = data[0]\n",
    "        self.relatedness = data[2]\n",
    "        self.sex = data[5]\n",
    "        self.age = None if data[6]=='' or int(data[6])<0 or int(data[6])>100 else int(data[6])\n",
    "        self.diagnoses = set(data[7].split(','))\n",
    "        self.asd = data[8]\n",
    "        self.premature = data[9]\n",
    "        self.gestation = 40 if data[10]=='' else int(data[10])\n",
    "        self.verbal = data[11]\n",
    "        self.sleep = data[12]\n",
    "        self.hearing = data[13]\n",
    "        self.vision = data[14]\n",
    "        self.noise = data[15]\n",
    "        self.motor = data[16]\n",
    "        self.metabolic = data[17]\n",
    "        self.gi = data[18]\n",
    "        self.infections = data[19]\n",
    "        self.seizures = data[20]\n",
    "        \n",
    "    def __str__(self):\n",
    "        return 'Child(id=%s, fam=%s)' % (self.id, self.family)\n",
    "\n",
    "fam_to_children = defaultdict(list)\n",
    "with open('../data/kfPedsFileExport_09-12-2022.csv', 'r') as f:\n",
    "    reader = csv.reader(f)\n",
    "    header = next(reader)\n",
    "    for line in reader:\n",
    "        child = Child(line)\n",
    "        fam_to_children[child.family].append(child)"
   ]
  },
  {
   "cell_type": "code",
   "execution_count": 34,
   "metadata": {},
   "outputs": [
    {
     "name": "stdout",
     "output_type": "stream",
     "text": [
      "{'stepfather', 'stepmother', 'unrelated', 'full'}\n"
     ]
    }
   ],
   "source": [
    "print(set(sum([[x.relatedness for x in children] for children in fam_to_children.values()], [])))"
   ]
  },
  {
   "cell_type": "code",
   "execution_count": 38,
   "metadata": {},
   "outputs": [
    {
     "name": "stdout",
     "output_type": "stream",
     "text": [
      "full 1415\n",
      "half mat 239\n",
      "half pat 72\n",
      "unrelated fam 92\n",
      "unrelated 1415\n"
     ]
    }
   ],
   "source": [
    "class SiblingPair():\n",
    "    def __init__(self, child1, child2):        \n",
    "        self.child1 = child1\n",
    "        self.child2 = child2\n",
    "        \n",
    "        \n",
    "full_sib = []\n",
    "half_sib_maternal = []\n",
    "half_sib_paternal = []\n",
    "unrelated_family = []\n",
    "unrelated = []\n",
    "for fam, children in fam_to_children.items():\n",
    "    for child1, child2 in combinations(children, r=2):\n",
    "        if child1.relatedness == 'full' and child2.relatedness == 'full':\n",
    "            full_sib.append(SiblingPair(child1, child2))\n",
    "        elif (child1.relatedness == 'full' and child2.relatedness == 'stepmother') or \\\n",
    "            (child2.relatedness == 'full' and child1.relatedness == 'stepmother'):\n",
    "            half_sib_paternal.append(SiblingPair(child1, child2))\n",
    "        elif (child1.relatedness == 'full' and child2.relatedness == 'stepfather') or \\\n",
    "            (child2.relatedness == 'full' and child1.relatedness == 'stepfather'):\n",
    "            half_sib_maternal.append(SiblingPair(child1, child2))\n",
    "        elif (child1.relatedness == 'full' and child2.relatedness == 'unrelated') or \\\n",
    "            (child2.relatedness == 'full' and child1.relatedness == 'unrelated'):\n",
    "            unrelated_family.append(SiblingPair(child1, child2))\n",
    "        elif (child1.relatedness == 'stepmother' and child2.relatedness == 'stepmother') or \\\n",
    "            (child2.relatedness == 'stepmother' and child1.relatedness == 'stepmother'):\n",
    "            pass\n",
    "        elif (child1.relatedness == 'stepmother' and child2.relatedness == 'stepfather') or \\\n",
    "            (child2.relatedness == 'stepmother' and child1.relatedness == 'stepfather'):\n",
    "            unrelated_family.append(SiblingPair(child1, child2))\n",
    "        elif (child1.relatedness == 'stepmother' and child2.relatedness == 'unrelated') or \\\n",
    "            (child2.relatedness == 'stepmother' and child1.relatedness == 'unrelated'):\n",
    "            pass\n",
    "        elif (child1.relatedness == 'stepfather' and child2.relatedness == 'stepfather') or \\\n",
    "            (child2.relatedness == 'stepfather' and child1.relatedness == 'stepfather'):\n",
    "            pass\n",
    "        elif (child1.relatedness == 'stepfather' and child2.relatedness == 'unrelated') or \\\n",
    "            (child2.relatedness == 'stepfather' and child1.relatedness == 'unrelated'):\n",
    "            unrelated_family.append(SiblingPair(child1, child2))\n",
    "        elif (child1.relatedness == 'unrelated' and child2.relatedness == 'unrelated') or \\\n",
    "            (child2.relatedness == 'unrelated' and child1.relatedness == 'unrelated'):\n",
    "            pass\n",
    "        \n",
    "families = list(fam_to_children.keys())\n",
    "for _ in range(len(full_sib)):\n",
    "    fam1, fam2 = random.sample(families, 2)\n",
    "    child1 = random.choice(fam_to_children[fam1])\n",
    "    child2 = random.choice(fam_to_children[fam2])\n",
    "    unrelated.append(SiblingPair(child1, child2))\n",
    "\n",
    "    \n",
    "            \n",
    "print('full', len(full_sib))\n",
    "print('half mat', len(half_sib_maternal))\n",
    "print('half pat', len(half_sib_paternal))\n",
    "print('unrelated fam', len(unrelated_family))\n",
    "print('unrelated', len(unrelated))"
   ]
  },
  {
   "cell_type": "markdown",
   "metadata": {},
   "source": [
    "# Categorical Attributes"
   ]
  },
  {
   "cell_type": "code",
   "execution_count": 224,
   "metadata": {},
   "outputs": [],
   "source": [
    "#pull_attr = lambda x: 'yes' if 'yes' in x.infections else x.infections\n",
    "pull_attr = lambda x: x.seizures\n"
   ]
  },
  {
   "cell_type": "code",
   "execution_count": 225,
   "metadata": {},
   "outputs": [
    {
     "name": "stdout",
     "output_type": "stream",
     "text": [
      "['', 'yes', 'no']\n",
      "[('yes', 'no'), ('yes', 'yes')]\n"
     ]
    }
   ],
   "source": [
    "options = list(set(sum([[pull_attr(x) for x in children] for children in fam_to_children.values()], [])))\n",
    "print(options)\n",
    "\n",
    "options_combos = list(combinations(options, 2)) + [(x, x) for x in options]\n",
    "options_combos = [x for x in options_combos if x[0] != '' and x[1] != '' and (x[0] != 'no' or x[1] != 'no')]\n",
    "\n",
    "print(options_combos)\n",
    "\n",
    "response_to_index = dict()\n",
    "for i, opt in enumerate(options_combos):\n",
    "    response_to_index[opt] = i\n",
    "    response_to_index[(opt[1], opt[0])] = i"
   ]
  },
  {
   "cell_type": "code",
   "execution_count": 226,
   "metadata": {},
   "outputs": [
    {
     "name": "stdout",
     "output_type": "stream",
     "text": [
      "[[ 86.  14.   2.   5. 129.]\n",
      " [  8.   0.   0.   1.   4.]]\n"
     ]
    }
   ],
   "source": [
    "response = np.zeros((len(options_combos), 5))\n",
    "\n",
    "def pull_sibpair_response(sibpairs, pull_attr):\n",
    "    r = np.zeros((len(options_combos),))\n",
    "    for sibpair in sibpairs:\n",
    "        key = (pull_attr(sibpair.child1), pull_attr(sibpair.child2))\n",
    "        if key in response_to_index:\n",
    "            r[response_to_index[key]] += 1\n",
    "    return r\n",
    "\n",
    "response[:, 0] = pull_sibpair_response(full_sib, pull_attr)\n",
    "response[:, 1] = pull_sibpair_response(half_sib_maternal, pull_attr)\n",
    "response[:, 2] = pull_sibpair_response(half_sib_paternal, pull_attr)\n",
    "response[:, 3] = pull_sibpair_response(unrelated_family, pull_attr)\n",
    "response[:, 4] = pull_sibpair_response(unrelated, pull_attr)\n",
    "print(response)"
   ]
  },
  {
   "cell_type": "code",
   "execution_count": 227,
   "metadata": {},
   "outputs": [],
   "source": [
    "def plotbar(r, total, offset=0, label=None):\n",
    "    p = r/total\n",
    "    lb, ub = sm.stats.proportion_confint(r, total, alpha=0.05, method='agresti_coull')\n",
    "    plt.bar(np.arange(len(options_combos))+offset, p, width=0.1, label=label)\n",
    "    plt.errorbar(np.arange(len(options_combos))+offset, p, \n",
    "                 yerr=[p-lb, ub-p], \n",
    "                 color='black', linestyle='', capsize=5)\n"
   ]
  },
  {
   "cell_type": "code",
   "execution_count": 228,
   "metadata": {},
   "outputs": [
    {
     "data": {
      "image/png": "[encoded data removed]",
      "text/plain": [
       "<Figure size 1080x360 with 1 Axes>"
      ]
     },
     "metadata": {
      "needs_background": "light"
     },
     "output_type": "display_data"
    },
    {
     "name": "stdout",
     "output_type": "stream",
     "text": [
      "[[ 86.   8.]\n",
      " [129.   4.]]\n",
      "full sib vs unrelated (2.322772751708563, 0.1274925872180169, 1, array([[ 89.030837,   4.969163],\n",
      "       [125.969163,   7.030837]]))\n"
     ]
    }
   ],
   "source": [
    "plt.figure(figsize=(15, 5))\n",
    "plotbar(response[:, 0], len(full_sib), 0.15, label='full')\n",
    "plotbar(response[:, 1], len(half_sib_maternal), 0.3, label='half mat')\n",
    "plotbar(response[:, 2], len(half_sib_paternal), 0.45, label='half pat')\n",
    "plotbar(response[:, 3], len(unrelated_family), 0.6, label='unrel fam')\n",
    "plotbar(response[:, 4], len(unrelated), 0.75, label='unrel')\n",
    "plt.xticks(np.arange(len(options_combos)), [str(x) for x in options_combos])\n",
    "    \n",
    "plt.legend()\n",
    "plt.show()\n",
    "\n",
    "c = np.array([response[:, 0], response[:, 4]])\n",
    "print(c)\n",
    "\n",
    "print('full sib vs unrelated', stats.chi2_contingency(c[:, np.sum(c, axis=0)>5]))\n",
    "#print('half mat vs unrelated', stats.chi2_contingency([response[:, 1], response[:, 4]]))\n",
    "#print('half pat vs unrelated', stats.chi2_contingency([response[:, 2], response[:, 4]]))"
   ]
  },
  {
   "cell_type": "code",
   "execution_count": 213,
   "metadata": {},
   "outputs": [],
   "source": [
    "# **** ASD very genetic\n",
    "# **** premature very genetic, not enough half-mat sibpairs to distinguish maternal vs paternal impact\n",
    "# sleep nothing\n",
    "# hearing nothing, even when grouping yes and yes-other\n",
    "# **** vision genetic\n",
    "# noise nothing, even when grouping yes\n",
    "# motor nothing, even when grouping yes\n",
    "# **** metabolic - somewhat genetic, limited by sample size\n",
    "# **** gi genetic\n",
    "# **** infections genetic, both with and without grouping yes\n",
    "# seizures nothing - limited by sample size\n",
    "\n"
   ]
  },
  {
   "cell_type": "markdown",
   "metadata": {},
   "source": [
    "# Continuous Attributes"
   ]
  },
  {
   "cell_type": "code",
   "execution_count": 258,
   "metadata": {},
   "outputs": [],
   "source": [
    "pull_attr = lambda x: int(x.gestation)\n",
    "#max_diff = 10\n",
    "max_diff = 18"
   ]
  },
  {
   "cell_type": "code",
   "execution_count": 259,
   "metadata": {},
   "outputs": [
    {
     "name": "stdout",
     "output_type": "stream",
     "text": [
      "[32, 33, 34, 35, 36, 37, 40, 23, 24, 25, 26, 27, 28, 29, 30, 31]\n"
     ]
    }
   ],
   "source": [
    "options = list(set(sum([[pull_attr(x) for x in children] for children in fam_to_children.values()], [])))\n",
    "options_combos = np.arange(max_diff)\n",
    "print(options)"
   ]
  },
  {
   "cell_type": "code",
   "execution_count": 260,
   "metadata": {},
   "outputs": [
    {
     "name": "stdout",
     "output_type": "stream",
     "text": [
      "[[1.167e+03 1.940e+02 6.000e+01 5.400e+01 9.510e+02]\n",
      " [1.700e+01 3.000e+00 0.000e+00 0.000e+00 2.000e+01]\n",
      " [8.000e+00 2.000e+00 0.000e+00 1.000e+00 1.800e+01]\n",
      " [5.400e+01 1.700e+01 3.000e+00 3.000e+00 8.100e+01]\n",
      " [7.900e+01 4.000e+00 1.000e+00 2.000e+00 1.030e+02]\n",
      " [3.300e+01 9.000e+00 0.000e+00 2.000e+00 9.300e+01]\n",
      " [1.900e+01 3.000e+00 4.000e+00 7.000e+00 5.600e+01]\n",
      " [8.000e+00 0.000e+00 0.000e+00 3.000e+00 2.400e+01]\n",
      " [7.000e+00 6.000e+00 2.000e+00 5.000e+00 2.200e+01]\n",
      " [7.000e+00 0.000e+00 0.000e+00 7.000e+00 8.000e+00]\n",
      " [2.000e+00 0.000e+00 1.000e+00 5.000e+00 6.000e+00]\n",
      " [4.000e+00 0.000e+00 0.000e+00 0.000e+00 1.000e+00]\n",
      " [5.000e+00 0.000e+00 1.000e+00 0.000e+00 8.000e+00]\n",
      " [0.000e+00 0.000e+00 0.000e+00 0.000e+00 3.000e+00]\n",
      " [1.000e+00 1.000e+00 0.000e+00 0.000e+00 1.000e+01]\n",
      " [3.000e+00 0.000e+00 0.000e+00 0.000e+00 7.000e+00]\n",
      " [0.000e+00 0.000e+00 0.000e+00 3.000e+00 3.000e+00]\n",
      " [1.000e+00 0.000e+00 0.000e+00 0.000e+00 1.000e+00]]\n"
     ]
    }
   ],
   "source": [
    "response = np.zeros((max_diff, 5))\n",
    "\n",
    "def pull_sibpair_response(sibpairs, pull_attr):\n",
    "    r = np.zeros((max_diff,))\n",
    "    for sibpair in sibpairs:\n",
    "        r[np.abs(pull_attr(sibpair.child1)-pull_attr(sibpair.child2))] += 1\n",
    "    return r\n",
    "\n",
    "response[:, 0] = pull_sibpair_response(full_sib, pull_attr)\n",
    "response[:, 1] = pull_sibpair_response(half_sib_maternal, pull_attr)\n",
    "response[:, 2] = pull_sibpair_response(half_sib_paternal, pull_attr)\n",
    "response[:, 3] = pull_sibpair_response(unrelated_family, pull_attr)\n",
    "response[:, 4] = pull_sibpair_response(unrelated, pull_attr)\n",
    "print(response)"
   ]
  },
  {
   "cell_type": "code",
   "execution_count": 262,
   "metadata": {},
   "outputs": [
    {
     "data": {
      "image/png": "[encoded data removed]",
      "text/plain": [
       "<Figure size 1080x360 with 1 Axes>"
      ]
     },
     "metadata": {
      "needs_background": "light"
     },
     "output_type": "display_data"
    },
    {
     "name": "stdout",
     "output_type": "stream",
     "text": [
      "[[1.167e+03 1.700e+01 8.000e+00 5.400e+01 7.900e+01 3.300e+01 1.900e+01\n",
      "  8.000e+00 7.000e+00 7.000e+00 2.000e+00 4.000e+00 5.000e+00 0.000e+00\n",
      "  1.000e+00 3.000e+00 0.000e+00 1.000e+00]\n",
      " [9.510e+02 2.000e+01 1.800e+01 8.100e+01 1.030e+02 9.300e+01 5.600e+01\n",
      "  2.400e+01 2.200e+01 8.000e+00 6.000e+00 1.000e+00 8.000e+00 3.000e+00\n",
      "  1.000e+01 7.000e+00 3.000e+00 1.000e+00]]\n",
      "full sib vs unrelated (108.98548290038593, 2.95121776816578e-17, 13, array([[1060.12779553,   18.51970181,   13.01384452,   67.57188498,\n",
      "          91.09691161,   63.06709265,   37.5399361 ,   16.0170394 ,\n",
      "          14.51544196,    7.50798722,    4.00425985,    6.50692226,\n",
      "           5.50585729,    5.00532481],\n",
      "       [1057.87220447,   18.48029819,   12.98615548,   67.42811502,\n",
      "          90.90308839,   62.93290735,   37.4600639 ,   15.9829606 ,\n",
      "          14.48455804,    7.49201278,    3.99574015,    6.49307774,\n",
      "           5.49414271,    4.99467519]]))\n",
      "half mat vs unrelated (35.1719518490971, 0.005905568939771335, 17, array([[1.65450423e+02, 3.32345828e+00, 2.88996372e+00, 1.41608222e+01,\n",
      "        1.54613059e+01, 1.47388150e+01, 8.52539299e+00, 3.46795647e+00,\n",
      "        4.04594921e+00, 1.15598549e+00, 8.66989117e-01, 1.44498186e-01,\n",
      "        1.15598549e+00, 4.33494559e-01, 1.58948005e+00, 1.01148730e+00,\n",
      "        4.33494559e-01, 1.44498186e-01],\n",
      "       [9.79549577e+02, 1.96765417e+01, 1.71100363e+01, 8.38391778e+01,\n",
      "        9.15386941e+01, 8.72611850e+01, 5.04746070e+01, 2.05320435e+01,\n",
      "        2.39540508e+01, 6.84401451e+00, 5.13301088e+00, 8.55501814e-01,\n",
      "        6.84401451e+00, 2.56650544e+00, 9.41051995e+00, 5.98851270e+00,\n",
      "        2.56650544e+00, 8.55501814e-01]]))\n",
      "half pat vs unrelated (19.07050433076927, 0.324500325377129, 17, array([[4.89522529e+01, 9.68392737e-01, 8.71553463e-01, 4.06724950e+00,\n",
      "        5.03564223e+00, 4.50302623e+00, 2.90517821e+00, 1.16207128e+00,\n",
      "        1.16207128e+00, 3.87357095e-01, 3.38937458e-01, 4.84196369e-02,\n",
      "        4.35776732e-01, 1.45258911e-01, 4.84196369e-01, 3.38937458e-01,\n",
      "        1.45258911e-01, 4.84196369e-02],\n",
      "       [9.62047747e+02, 1.90316073e+01, 1.71284465e+01, 7.99327505e+01,\n",
      "        9.89643578e+01, 8.84969738e+01, 5.70948218e+01, 2.28379287e+01,\n",
      "        2.28379287e+01, 7.61264291e+00, 6.66106254e+00, 9.51580363e-01,\n",
      "        8.56422327e+00, 2.85474109e+00, 9.51580363e+00, 6.66106254e+00,\n",
      "        2.85474109e+00, 9.51580363e-01]]))\n"
     ]
    }
   ],
   "source": [
    "plt.figure(figsize=(15, 5))\n",
    "plotbar(response[:, 0], len(full_sib), 0.15, label='full')\n",
    "plt.plot(np.arange(0, max_diff)+0.15, response[:, 0]/len(full_sib))\n",
    "\n",
    "plotbar(response[:, 1], len(half_sib_maternal), 0.3, label='half mat')\n",
    "plt.plot(np.arange(0, max_diff)+0.3, response[:, 1]/len(half_sib_maternal))\n",
    "\n",
    "plotbar(response[:, 2], len(half_sib_paternal), 0.45, label='half pat')\n",
    "plt.plot(np.arange(0, max_diff)+0.45, response[:, 2]/len(half_sib_paternal))\n",
    "\n",
    "plotbar(response[:, 3], len(unrelated_family), 0.6, label='unrel fam')\n",
    "plt.plot(np.arange(0, max_diff)+0.6, response[:, 3]/len(unrelated_family))\n",
    "\n",
    "plotbar(response[:, 4], len(unrelated), 0.75, label='unrel')\n",
    "plt.plot(np.arange(0, max_diff)+0.75, response[:, 4]/len(unrelated))\n",
    "\n",
    "plt.xticks(np.arange(len(options_combos)), [str(x) for x in options_combos])\n",
    "    \n",
    "plt.legend()\n",
    "plt.show()\n",
    "\n",
    "c = np.array([response[:, 0], response[:, 4]])\n",
    "print(c)\n",
    "\n",
    "print('full sib vs unrelated', stats.chi2_contingency(c[:, np.sum(c, axis=0)>5]))\n",
    "print('half mat vs unrelated', stats.chi2_contingency([response[:, 1], response[:, 4]]))\n",
    "print('half pat vs unrelated', stats.chi2_contingency([response[:, 2], response[:, 4]]))"
   ]
  },
  {
   "cell_type": "code",
   "execution_count": null,
   "metadata": {},
   "outputs": [],
   "source": [
    "# gestation, highly genetic\n",
    "# verbal, highly genetic, we see mat half sib signal\n"
   ]
  }
 ],
 "metadata": {
  "kernelspec": {
   "display_name": "Python 3",
   "language": "python",
   "name": "python3"
  },
  "language_info": {
   "codemirror_mode": {
    "name": "ipython",
    "version": 3
   },
   "file_extension": ".py",
   "mimetype": "text/x-python",
   "name": "python",
   "nbconvert_exporter": "python",
   "pygments_lexer": "ipython3",
   "version": "3.7.3"
  }
 },
 "nbformat": 4,
 "nbformat_minor": 2
}
